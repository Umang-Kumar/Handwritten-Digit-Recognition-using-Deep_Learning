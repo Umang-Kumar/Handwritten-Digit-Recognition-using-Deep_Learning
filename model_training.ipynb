{
 "cells": [
  {
   "cell_type": "code",
   "execution_count": 1,
   "id": "886fcc65",
   "metadata": {},
   "outputs": [],
   "source": [
    "import numpy as np\n",
    "import matplotlib.pyplot as plt\n",
    "import keras\n",
    "from keras.datasets import mnist"
   ]
  },
  {
   "cell_type": "code",
   "execution_count": 2,
   "id": "8172da38",
   "metadata": {},
   "outputs": [],
   "source": [
    "#data loading"
   ]
  },
  {
   "cell_type": "code",
   "execution_count": 4,
   "id": "4004b9e4",
   "metadata": {},
   "outputs": [
    {
     "name": "stdout",
     "output_type": "stream",
     "text": [
      "Downloading data from https://storage.googleapis.com/tensorflow/tf-keras-datasets/mnist.npz\n",
      "11490434/11490434 [==============================] - 1s 0us/step\n"
     ]
    }
   ],
   "source": [
    "(x_train, y_train), (x_test, y_test) = mnist.load_data()"
   ]
  },
  {
   "cell_type": "code",
   "execution_count": 5,
   "id": "301b6c9c",
   "metadata": {},
   "outputs": [
    {
     "data": {
      "text/plain": [
       "((60000, 28, 28), (10000, 28, 28), (60000,), (10000,))"
      ]
     },
     "execution_count": 5,
     "metadata": {},
     "output_type": "execute_result"
    }
   ],
   "source": [
    "x_train.shape, x_test.shape, y_train.shape, y_test.shape\n"
   ]
  },
  {
   "cell_type": "code",
   "execution_count": 8,
   "id": "025643bf",
   "metadata": {},
   "outputs": [],
   "source": [
    "def plot(i):\n",
    "    plt.imshow(x_train[i] , cmap = 'binary')\n",
    "    plt.title(y_train[i])\n",
    "    plt.axis('off')\n",
    "    plt.show()"
   ]
  },
  {
   "cell_type": "code",
   "execution_count": 9,
   "id": "7c39cebd",
   "metadata": {},
   "outputs": [
    {
     "data": {
      "image/png": "[encoded data removed]",
      "text/plain": [
       "<Figure size 640x480 with 1 Axes>"
      ]
     },
     "metadata": {},
     "output_type": "display_data"
    }
   ],
   "source": [
    "plot(10)"
   ]
  },
  {
   "cell_type": "code",
   "execution_count": 10,
   "id": "09618a19",
   "metadata": {},
   "outputs": [],
   "source": [
    "#preprocessing"
   ]
  },
  {
   "cell_type": "code",
   "execution_count": 11,
   "id": "1cbc3461",
   "metadata": {},
   "outputs": [],
   "source": [
    "#normalization\n",
    "x_train = x_train.astype(np.float32)/255\n",
    "x_test = x_test.astype(np.float32)/255"
   ]
  },
  {
   "cell_type": "code",
   "execution_count": 12,
   "id": "abc5bfd4",
   "metadata": {},
   "outputs": [
    {
     "data": {
      "text/plain": [
       "(60000, 28, 28)"
      ]
     },
     "execution_count": 12,
     "metadata": {},
     "output_type": "execute_result"
    }
   ],
   "source": [
    "x_train.shape\n"
   ]
  },
  {
   "cell_type": "code",
   "execution_count": 13,
   "id": "5fb658e0",
   "metadata": {},
   "outputs": [],
   "source": [
    "#reshape to (28,28,1) for input\n",
    "x_train = np.expand_dims(x_train, -1)\n",
    "x_test = np.expand_dims(x_test, -1)"
   ]
  },
  {
   "cell_type": "code",
   "execution_count": 14,
   "id": "18293485",
   "metadata": {},
   "outputs": [
    {
     "data": {
      "text/plain": [
       "(60000, 28, 28, 1)"
      ]
     },
     "execution_count": 14,
     "metadata": {},
     "output_type": "execute_result"
    }
   ],
   "source": [
    "x_train.shape\n"
   ]
  },
  {
   "cell_type": "code",
   "execution_count": 16,
   "id": "87e66af8",
   "metadata": {},
   "outputs": [],
   "source": [
    "#convert classes to one hot vectors\n",
    "y_train = keras.utils.to_categorical(y_train)\n",
    "y_test = keras.utils.to_categorical(y_test)"
   ]
  },
  {
   "cell_type": "code",
   "execution_count": 17,
   "id": "74045121",
   "metadata": {},
   "outputs": [
    {
     "data": {
      "text/plain": [
       "array([[0., 0., 0., ..., 0., 0., 0.],\n",
       "       [1., 0., 0., ..., 0., 0., 0.],\n",
       "       [0., 0., 0., ..., 0., 0., 0.],\n",
       "       ...,\n",
       "       [0., 0., 0., ..., 0., 0., 0.],\n",
       "       [0., 0., 0., ..., 0., 0., 0.],\n",
       "       [0., 0., 0., ..., 0., 1., 0.]], dtype=float32)"
      ]
     },
     "execution_count": 17,
     "metadata": {},
     "output_type": "execute_result"
    }
   ],
   "source": [
    "y_train"
   ]
  },
  {
   "cell_type": "code",
   "execution_count": 18,
   "id": "317a3d8d",
   "metadata": {},
   "outputs": [],
   "source": [
    "from keras.models import Sequential\n",
    "from keras.layers import Dense, Conv2D, MaxPool2D, Flatten, Dropout"
   ]
  },
  {
   "cell_type": "code",
   "execution_count": 19,
   "id": "3005343d",
   "metadata": {},
   "outputs": [],
   "source": [
    "#model building\n",
    "model = Sequential()\n",
    "\n",
    "model.add(Conv2D(32, (3,3), input_shape=(28,28,1), activation = 'relu'))\n",
    "model.add(MaxPool2D((2,2)))\n",
    "\n",
    "model.add(Conv2D(64, (3,3), activation = 'relu'))\n",
    "model.add(MaxPool2D((2,2)))\n",
    "\n",
    "model.add(Flatten())\n",
    "\n",
    "model.add(Dropout(0.25)) #prevent overfitting\n",
    "\n",
    "model.add(Dense(10, activation = 'softmax'))  #for classification"
   ]
  },
  {
   "cell_type": "code",
   "execution_count": 20,
   "id": "54017be6",
   "metadata": {},
   "outputs": [
    {
     "name": "stdout",
     "output_type": "stream",
     "text": [
      "Model: \"sequential\"\n",
      "_________________________________________________________________\n",
      " Layer (type)                Output Shape              Param #   \n",
      "=================================================================\n",
      " conv2d (Conv2D)             (None, 26, 26, 32)        320       \n",
      "                                                                 \n",
      " max_pooling2d (MaxPooling2D  (None, 13, 13, 32)       0         \n",
      " )                                                               \n",
      "                                                                 \n",
      " conv2d_1 (Conv2D)           (None, 11, 11, 64)        18496     \n",
      "                                                                 \n",
      " max_pooling2d_1 (MaxPooling  (None, 5, 5, 64)         0         \n",
      " 2D)                                                             \n",
      "                                                                 \n",
      " flatten (Flatten)           (None, 1600)              0         \n",
      "                                                                 \n",
      " dropout (Dropout)           (None, 1600)              0         \n",
      "                                                                 \n",
      " dense (Dense)               (None, 10)                16010     \n",
      "                                                                 \n",
      "=================================================================\n",
      "Total params: 34,826\n",
      "Trainable params: 34,826\n",
      "Non-trainable params: 0\n",
      "_________________________________________________________________\n"
     ]
    }
   ],
   "source": [
    "model.summary()"
   ]
  },
  {
   "cell_type": "code",
   "execution_count": 21,
   "id": "dbe3752b",
   "metadata": {},
   "outputs": [],
   "source": [
    "model.compile(optimizer= 'adam', loss = keras.losses.categorical_crossentropy, metrics = ['accuracy'])"
   ]
  },
  {
   "cell_type": "code",
   "execution_count": 22,
   "id": "b85518fa",
   "metadata": {},
   "outputs": [],
   "source": [
    "#Callbacks\n",
    "from keras.callbacks import EarlyStopping, ModelCheckpoint\n",
    "\n",
    "#EarlyStopping\n",
    "es = EarlyStopping(monitor='val_acc', min_delta= 0.01, patience=4, verbose=1)\n",
    "\n",
    "#ModelCheckPoint\n",
    "mc = ModelCheckpoint('./bestmodel.h5', monitor='val_acc', verbose=1, save_best_only=True)\n",
    "\n",
    "cb = [es,mc]"
   ]
  },
  {
   "cell_type": "code",
   "execution_count": 23,
   "id": "12c7b206",
   "metadata": {
    "scrolled": true
   },
   "outputs": [
    {
     "name": "stdout",
     "output_type": "stream",
     "text": [
      "Epoch 1/50\n",
      "1313/1313 [==============================] - 16s 11ms/step - loss: 0.2220 - accuracy: 0.9311 - val_loss: 0.0840 - val_accuracy: 0.9741\n",
      "Epoch 2/50\n",
      "1313/1313 [==============================] - 13s 10ms/step - loss: 0.0792 - accuracy: 0.9758 - val_loss: 0.0606 - val_accuracy: 0.9817\n",
      "Epoch 3/50\n",
      "1313/1313 [==============================] - 13s 10ms/step - loss: 0.0588 - accuracy: 0.9818 - val_loss: 0.0533 - val_accuracy: 0.9836\n",
      "Epoch 4/50\n",
      "1313/1313 [==============================] - 13s 10ms/step - loss: 0.0493 - accuracy: 0.9848 - val_loss: 0.0504 - val_accuracy: 0.9848\n",
      "Epoch 5/50\n",
      "1313/1313 [==============================] - 13s 10ms/step - loss: 0.0397 - accuracy: 0.9874 - val_loss: 0.0518 - val_accuracy: 0.9843\n",
      "Epoch 6/50\n",
      "1313/1313 [==============================] - 13s 10ms/step - loss: 0.0347 - accuracy: 0.9890 - val_loss: 0.0411 - val_accuracy: 0.9878\n",
      "Epoch 7/50\n",
      "1313/1313 [==============================] - 13s 10ms/step - loss: 0.0297 - accuracy: 0.9903 - val_loss: 0.0395 - val_accuracy: 0.9887\n",
      "Epoch 8/50\n",
      "1313/1313 [==============================] - 13s 10ms/step - loss: 0.0267 - accuracy: 0.9915 - val_loss: 0.0430 - val_accuracy: 0.9879\n",
      "Epoch 9/50\n",
      "1313/1313 [==============================] - 13s 10ms/step - loss: 0.0237 - accuracy: 0.9922 - val_loss: 0.0410 - val_accuracy: 0.9884\n",
      "Epoch 10/50\n",
      "1313/1313 [==============================] - 13s 10ms/step - loss: 0.0209 - accuracy: 0.9927 - val_loss: 0.0456 - val_accuracy: 0.9882\n",
      "Epoch 11/50\n",
      "1313/1313 [==============================] - 13s 10ms/step - loss: 0.0186 - accuracy: 0.9937 - val_loss: 0.0392 - val_accuracy: 0.9891\n",
      "Epoch 12/50\n",
      "1313/1313 [==============================] - 13s 10ms/step - loss: 0.0173 - accuracy: 0.9939 - val_loss: 0.0368 - val_accuracy: 0.9895\n",
      "Epoch 13/50\n",
      "1313/1313 [==============================] - 13s 10ms/step - loss: 0.0166 - accuracy: 0.9944 - val_loss: 0.0411 - val_accuracy: 0.9894\n",
      "Epoch 14/50\n",
      "1313/1313 [==============================] - 13s 10ms/step - loss: 0.0133 - accuracy: 0.9955 - val_loss: 0.0480 - val_accuracy: 0.9879\n",
      "Epoch 15/50\n",
      "1313/1313 [==============================] - 13s 10ms/step - loss: 0.0146 - accuracy: 0.9951 - val_loss: 0.0423 - val_accuracy: 0.9892\n",
      "Epoch 16/50\n",
      "1313/1313 [==============================] - 13s 10ms/step - loss: 0.0121 - accuracy: 0.9955 - val_loss: 0.0420 - val_accuracy: 0.9898\n",
      "Epoch 17/50\n",
      "1313/1313 [==============================] - 13s 10ms/step - loss: 0.0123 - accuracy: 0.9958 - val_loss: 0.0380 - val_accuracy: 0.9906\n",
      "Epoch 18/50\n",
      "1313/1313 [==============================] - 13s 10ms/step - loss: 0.0120 - accuracy: 0.9958 - val_loss: 0.0482 - val_accuracy: 0.9883\n",
      "Epoch 19/50\n",
      "1313/1313 [==============================] - 13s 10ms/step - loss: 0.0112 - accuracy: 0.9960 - val_loss: 0.0451 - val_accuracy: 0.9906\n",
      "Epoch 20/50\n",
      "1313/1313 [==============================] - 13s 10ms/step - loss: 0.0103 - accuracy: 0.9962 - val_loss: 0.0456 - val_accuracy: 0.9891\n",
      "Epoch 21/50\n",
      "1313/1313 [==============================] - 14s 10ms/step - loss: 0.0086 - accuracy: 0.9970 - val_loss: 0.0455 - val_accuracy: 0.9898\n",
      "Epoch 22/50\n",
      "1313/1313 [==============================] - 13s 10ms/step - loss: 0.0098 - accuracy: 0.9965 - val_loss: 0.0472 - val_accuracy: 0.9899\n",
      "Epoch 23/50\n",
      "1313/1313 [==============================] - 13s 10ms/step - loss: 0.0094 - accuracy: 0.9969 - val_loss: 0.0429 - val_accuracy: 0.9903\n",
      "Epoch 24/50\n",
      "1313/1313 [==============================] - 13s 10ms/step - loss: 0.0083 - accuracy: 0.9969 - val_loss: 0.0471 - val_accuracy: 0.9898\n",
      "Epoch 25/50\n",
      "1313/1313 [==============================] - 13s 10ms/step - loss: 0.0093 - accuracy: 0.9969 - val_loss: 0.0447 - val_accuracy: 0.9907\n",
      "Epoch 26/50\n",
      "1313/1313 [==============================] - 13s 10ms/step - loss: 0.0085 - accuracy: 0.9970 - val_loss: 0.0474 - val_accuracy: 0.9899\n",
      "Epoch 27/50\n",
      "1313/1313 [==============================] - 13s 10ms/step - loss: 0.0086 - accuracy: 0.9968 - val_loss: 0.0443 - val_accuracy: 0.9903\n",
      "Epoch 28/50\n",
      "1313/1313 [==============================] - 13s 10ms/step - loss: 0.0085 - accuracy: 0.9971 - val_loss: 0.0445 - val_accuracy: 0.9900\n",
      "Epoch 29/50\n",
      "1313/1313 [==============================] - 13s 10ms/step - loss: 0.0088 - accuracy: 0.9972 - val_loss: 0.0502 - val_accuracy: 0.9901\n",
      "Epoch 30/50\n",
      "1313/1313 [==============================] - 13s 10ms/step - loss: 0.0065 - accuracy: 0.9979 - val_loss: 0.0497 - val_accuracy: 0.9900\n",
      "Epoch 31/50\n",
      "1313/1313 [==============================] - 13s 10ms/step - loss: 0.0080 - accuracy: 0.9972 - val_loss: 0.0493 - val_accuracy: 0.9892\n",
      "Epoch 32/50\n",
      "1313/1313 [==============================] - 13s 10ms/step - loss: 0.0075 - accuracy: 0.9975 - val_loss: 0.0547 - val_accuracy: 0.9893\n",
      "Epoch 33/50\n",
      "1313/1313 [==============================] - 13s 10ms/step - loss: 0.0055 - accuracy: 0.9980 - val_loss: 0.0479 - val_accuracy: 0.9902\n",
      "Epoch 34/50\n",
      "1313/1313 [==============================] - 13s 10ms/step - loss: 0.0065 - accuracy: 0.9977 - val_loss: 0.0535 - val_accuracy: 0.9896\n",
      "Epoch 35/50\n",
      "1313/1313 [==============================] - 13s 10ms/step - loss: 0.0058 - accuracy: 0.9981 - val_loss: 0.0518 - val_accuracy: 0.9906\n",
      "Epoch 36/50\n",
      "1313/1313 [==============================] - 13s 10ms/step - loss: 0.0069 - accuracy: 0.9976 - val_loss: 0.0529 - val_accuracy: 0.9902\n",
      "Epoch 37/50\n",
      "1313/1313 [==============================] - 13s 10ms/step - loss: 0.0066 - accuracy: 0.9980 - val_loss: 0.0514 - val_accuracy: 0.9902\n",
      "Epoch 38/50\n",
      "1313/1313 [==============================] - 13s 10ms/step - loss: 0.0066 - accuracy: 0.9976 - val_loss: 0.0541 - val_accuracy: 0.9903\n",
      "Epoch 39/50\n",
      "1313/1313 [==============================] - 13s 10ms/step - loss: 0.0061 - accuracy: 0.9979 - val_loss: 0.0554 - val_accuracy: 0.9907\n",
      "Epoch 40/50\n",
      "1313/1313 [==============================] - 13s 10ms/step - loss: 0.0063 - accuracy: 0.9979 - val_loss: 0.0553 - val_accuracy: 0.9907\n",
      "Epoch 41/50\n",
      "1313/1313 [==============================] - 14s 10ms/step - loss: 0.0072 - accuracy: 0.9977 - val_loss: 0.0559 - val_accuracy: 0.9902\n",
      "Epoch 42/50\n",
      "1313/1313 [==============================] - 13s 10ms/step - loss: 0.0048 - accuracy: 0.9985 - val_loss: 0.0551 - val_accuracy: 0.9907\n",
      "Epoch 43/50\n",
      "1313/1313 [==============================] - 13s 10ms/step - loss: 0.0060 - accuracy: 0.9979 - val_loss: 0.0493 - val_accuracy: 0.9906\n",
      "Epoch 44/50\n",
      "1313/1313 [==============================] - 13s 10ms/step - loss: 0.0062 - accuracy: 0.9978 - val_loss: 0.0548 - val_accuracy: 0.9901\n",
      "Epoch 45/50\n",
      "1313/1313 [==============================] - 13s 10ms/step - loss: 0.0066 - accuracy: 0.9980 - val_loss: 0.0495 - val_accuracy: 0.9903\n",
      "Epoch 46/50\n",
      "1313/1313 [==============================] - 13s 10ms/step - loss: 0.0043 - accuracy: 0.9985 - val_loss: 0.0513 - val_accuracy: 0.9909\n",
      "Epoch 47/50\n",
      "1313/1313 [==============================] - 13s 10ms/step - loss: 0.0055 - accuracy: 0.9982 - val_loss: 0.0605 - val_accuracy: 0.9909\n",
      "Epoch 48/50\n",
      "1313/1313 [==============================] - 15s 11ms/step - loss: 0.0070 - accuracy: 0.9976 - val_loss: 0.0503 - val_accuracy: 0.9909\n",
      "Epoch 49/50\n",
      "1313/1313 [==============================] - 15s 12ms/step - loss: 0.0050 - accuracy: 0.9983 - val_loss: 0.0555 - val_accuracy: 0.9904\n",
      "Epoch 50/50\n",
      "1313/1313 [==============================] - 15s 12ms/step - loss: 0.0055 - accuracy: 0.9984 - val_loss: 0.0553 - val_accuracy: 0.9899\n"
     ]
    }
   ],
   "source": [
    "#Model Training\n",
    "\n",
    "his = model.fit(x_train, y_train, epochs= 50, validation_split= 0.3)"
   ]
  },
  {
   "cell_type": "code",
   "execution_count": 28,
   "id": "af916ecc",
   "metadata": {},
   "outputs": [],
   "source": [
    "#save model\n",
    "model.save('bestmodel', save_format='h5')\n",
    "\n",
    "#load model\n",
    "model_S = keras.models.load_model('D://super ultimate pro//bestmodel')"
   ]
  },
  {
   "cell_type": "code",
   "execution_count": 29,
   "id": "cd962aef",
   "metadata": {},
   "outputs": [
    {
     "name": "stdout",
     "output_type": "stream",
     "text": [
      "313/313 [==============================] - 1s 3ms/step - loss: 0.0504 - accuracy: 0.9899\n",
      "Model Accuracy = 0.9898999929428101\n"
     ]
    }
   ],
   "source": [
    "score = model_S.evaluate(x_test, y_test)\n",
    "print(f'Model Accuracy = {score[1]}')     #score[0] = loss, score[1] = accuracy\n"
   ]
  },
  {
   "cell_type": "code",
   "execution_count": null,
   "id": "b2ef15a6",
   "metadata": {},
   "outputs": [],
   "source": []
  }
 ],
 "metadata": {
  "kernelspec": {
   "display_name": "Python 3 (ipykernel)",
   "language": "python",
   "name": "python3"
  },
  "language_info": {
   "codemirror_mode": {
    "name": "ipython",
    "version": 3
   },
   "file_extension": ".py",
   "mimetype": "text/x-python",
   "name": "python",
   "nbconvert_exporter": "python",
   "pygments_lexer": "ipython3",
   "version": "3.9.13"
  }
 },
 "nbformat": 4,
 "nbformat_minor": 5
}
